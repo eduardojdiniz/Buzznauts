{
  "nbformat": 4,
  "nbformat_minor": 0,
  "metadata": {
    "colab": {
      "name": "load_videos.ipynb",
      "provenance": [],
      "collapsed_sections": []
    },
    "kernelspec": {
      "display_name": "Python 3",
      "language": "python",
      "name": "python3"
    },
    "language_info": {
      "codemirror_mode": {
        "name": "ipython",
        "version": 3
      },
      "file_extension": ".py",
      "mimetype": "text/x-python",
      "name": "python",
      "nbconvert_exporter": "python",
      "pygments_lexer": "ipython3"
    }
  },
  "cells": [
    {
      "cell_type": "markdown",
      "metadata": {
        "id": "FdB66FX2dUq2"
      },
      "source": [
        "<a   href=\"https://colab.research.google.com/github/eduardojdiniz/Buzznauts/blob/master/scripts/load_videos.ipynb\" target=\"_parent\"><img src=\"https://colab.research.google.com/assets/colab-badge.svg\" alt=\"Open In Colab\"/></a>"
      ]
    },
    {
      "cell_type": "markdown",
      "metadata": {
        "id": "dhMcaFlOdUq4"
      },
      "source": [
        "# Example loader"
      ]
    },
    {
      "cell_type": "markdown",
      "metadata": {
        "id": "RDPBi5eJdUq5"
      },
      "source": [
        "### Import Buzznauts GitHub Repository and Install Dependencies"
      ]
    },
    {
      "cell_type": "code",
      "metadata": {
        "id": "Phk2sGeDdUq6",
        "colab": {
          "base_uri": "https://localhost:8080/"
        },
        "outputId": "58664fc2-1a65-4a76-eeac-35d2b00aef46"
      },
      "source": [
        "!pip install duecredit --quiet\n",
        "!pip install nilearn --quiet\n",
        "!pip install numpy --quiet\n",
        "!pip install matplotlib --quiet\n",
        "!pip install nibabel --quiet\n",
        "!pip install decord --quiet\n",
        "!pip install tqdm --quiet\n",
        "\n",
        "\n",
        "!pip install opencv --quiet\n",
        "!git clone https://github.com/eduardojdiniz/Buzznauts --quiet\n",
        "!git clone https://github.com/Neural-Dynamics-of-Visual-Cognition-FUB/Algonauts2021_devkit.git"
      ],
      "execution_count": 1,
      "outputs": [
        {
          "output_type": "stream",
          "text": [
            "\u001b[?25l\r\u001b[K     |███▊                            | 10 kB 20.4 MB/s eta 0:00:01\r\u001b[K     |███████▌                        | 20 kB 27.2 MB/s eta 0:00:01\r\u001b[K     |███████████▎                    | 30 kB 12.7 MB/s eta 0:00:01\r\u001b[K     |███████████████                 | 40 kB 9.5 MB/s eta 0:00:01\r\u001b[K     |██████████████████▉             | 51 kB 5.2 MB/s eta 0:00:01\r\u001b[K     |██████████████████████▋         | 61 kB 5.2 MB/s eta 0:00:01\r\u001b[K     |██████████████████████████▍     | 71 kB 5.5 MB/s eta 0:00:01\r\u001b[K     |██████████████████████████████▏ | 81 kB 6.2 MB/s eta 0:00:01\r\u001b[K     |████████████████████████████████| 86 kB 3.1 MB/s \n",
            "\u001b[K     |████████████████████████████████| 179 kB 8.6 MB/s \n",
            "\u001b[K     |████████████████████████████████| 4.9 MB 5.0 MB/s \n",
            "\u001b[K     |████████████████████████████████| 13.6 MB 75 kB/s \n",
            "\u001b[?25h\u001b[31mERROR: Could not find a version that satisfies the requirement opencv (from versions: none)\u001b[0m\n",
            "\u001b[31mERROR: No matching distribution found for opencv\u001b[0m\n",
            "Cloning into 'Algonauts2021_devkit'...\n",
            "remote: Enumerating objects: 68, done.\u001b[K\n",
            "remote: Counting objects: 100% (68/68), done.\u001b[K\n",
            "remote: Compressing objects: 100% (57/57), done.\u001b[K\n",
            "remote: Total 68 (delta 33), reused 38 (delta 10), pack-reused 0\u001b[K\n",
            "Unpacking objects: 100% (68/68), done.\n"
          ],
          "name": "stdout"
        }
      ]
    },
    {
      "cell_type": "markdown",
      "metadata": {
        "id": "ql42s5LxdUq7"
      },
      "source": [
        "### Import Buzznauts Module "
      ]
    },
    {
      "cell_type": "code",
      "metadata": {
        "id": "_jXkzM3TdUq7",
        "colab": {
          "base_uri": "https://localhost:8080/"
        },
        "outputId": "4829db16-e28b-4659-aab3-529ec5d38398"
      },
      "source": [
        "import Buzznauts.Buzznauts as buzz\n",
        "# Imports\n",
        "import os\n",
        "import glob\n",
        "import pickle\n",
        "import torch\n",
        "\n",
        "import numpy as np\n",
        "import matplotlib.pyplot as plt\n",
        "import nibabel as nib\n",
        "\n",
        "from nilearn import datasets\n",
        "from nilearn import plotting\n",
        "from tqdm import tqdm\n",
        "\n",
        "fsaverage = datasets.fetch_surf_fsaverage()\n",
        "\n",
        "from google.colab import drive\n",
        "drive.mount(\"/content/drive\")\n",
        "\n",
        "import os.path as op\n",
        "videos = \"/content/drive/MyDrive/Buzznauts/data/stimuli/videos\"\n",
        "dataframe = op.join(stimuli, \"frames\")"
      ],
      "execution_count": 11,
      "outputs": [
        {
          "output_type": "stream",
          "text": [
            "Drive already mounted at /content/drive; to attempt to forcibly remount, call drive.mount(\"/content/drive\", force_remount=True).\n"
          ],
          "name": "stdout"
        }
      ]
    },
    {
      "cell_type": "code",
      "metadata": {
        "id": "92VoARCbdUrA",
        "colab": {
          "base_uri": "https://localhost:8080/",
          "height": 402
        },
        "outputId": "fd46c357-00b3-435a-842c-e42c9da87cbd"
      },
      "source": [
        "from decord import VideoReader\n",
        "from decord import cpu, gpu\n",
        "from tqdm import tqdm\n",
        "from random import randrange\n",
        "\n",
        "def load_videos(path_to_videos, sample_strategy='standard', frame_n=3, win_n=3):\n",
        "    vid_list = os.listdir(path_to_videos)\n",
        "    vid_list.sort()\n",
        "    mp4_filename_format = \"{path}/{filename}\"\n",
        "    mp4_path_files = glob.glob(path_to_videos + '*.mp4')\n",
        "    X = {}\n",
        "    i = 0\n",
        "\n",
        "    with tqdm(total = len(vid_list), position = 0, leave = True) as pbar:\n",
        "        for video in tqdm(vid_list, position = 0, leave = True):\n",
        "            mp4_filename = mp4_filename_format.format(path=path_to_videos, \n",
        "                                                filename=video)\n",
        "            vr = VideoReader(mp4_filename, ctx=cpu(0))\n",
        "      \n",
        "            if sample_strategy=='standard':\n",
        "                num_frames = len(vr)\n",
        "                X[i] = vr.get_batch([0, int(num_frames*0.5), num_frames-1]).asnumpy()\n",
        "            elif sample_strategy=='random':\n",
        "                sample_n = np.zeros((frame_n))\n",
        "                for x in range(sample_n.shape[0]):\n",
        "                    sample_n[x] = randrange(0, len(vr))\n",
        "                sample_n = sample_n.astype(int)\n",
        "                X[i] = vr.get_batch([sample_n]).asnumpy()\n",
        "            elif sample_strategy=='average':\n",
        "                chunks = []\n",
        "                start=0\n",
        "                X[i]={}\n",
        "                for chunk in range(win_n):\n",
        "                    chunks.append(list(range(start, int(start + int(len(vr)/(win_n))))))\n",
        "                    tmp_chunk = np.mean(vr.get_batch([chunks[chunk]]).asnumpy(), axis=0)\n",
        "                    start =+  chunks[chunk][-1] + 1\n",
        "                    X[i][chunk] = np.mean(vr.get_batch([chunks[chunk]]).asnumpy(), axis=0).astype(int)\n",
        "\n",
        "            i += 1\n",
        "    return X\n",
        "\n",
        "\n",
        "#X = load_videos('/content/AlgonautsVideos268_All_30fpsmax/', sample_strategy='random', frame_n=4)\n",
        "X = load_videos(videos, sample_strategy='average', win_n=2)"
      ],
      "execution_count": 12,
      "outputs": [
        {
          "output_type": "stream",
          "text": [
            "  0%|          | 0/1102 [00:33<?, ?it/s]\n"
          ],
          "name": "stderr"
        },
        {
          "output_type": "error",
          "ename": "KeyboardInterrupt",
          "evalue": "ignored",
          "traceback": [
            "\u001b[0;31m---------------------------------------------------------------------------\u001b[0m",
            "\u001b[0;31mKeyboardInterrupt\u001b[0m                         Traceback (most recent call last)",
            "\u001b[0;32m<ipython-input-12-a4e85be68e7e>\u001b[0m in \u001b[0;36m<module>\u001b[0;34m()\u001b[0m\n\u001b[1;32m     42\u001b[0m \u001b[0;34m\u001b[0m\u001b[0m\n\u001b[1;32m     43\u001b[0m \u001b[0;31m#X = load_videos('/content/AlgonautsVideos268_All_30fpsmax/', sample_strategy='random', frame_n=4)\u001b[0m\u001b[0;34m\u001b[0m\u001b[0;34m\u001b[0m\u001b[0;34m\u001b[0m\u001b[0m\n\u001b[0;32m---> 44\u001b[0;31m \u001b[0mX\u001b[0m \u001b[0;34m=\u001b[0m \u001b[0mload_videos\u001b[0m\u001b[0;34m(\u001b[0m\u001b[0mstimuli\u001b[0m\u001b[0;34m,\u001b[0m \u001b[0msample_strategy\u001b[0m\u001b[0;34m=\u001b[0m\u001b[0;34m'average'\u001b[0m\u001b[0;34m,\u001b[0m \u001b[0mwin_n\u001b[0m\u001b[0;34m=\u001b[0m\u001b[0;36m2\u001b[0m\u001b[0;34m)\u001b[0m\u001b[0;34m\u001b[0m\u001b[0;34m\u001b[0m\u001b[0m\n\u001b[0m",
            "\u001b[0;32m<ipython-input-12-a4e85be68e7e>\u001b[0m in \u001b[0;36mload_videos\u001b[0;34m(path_to_videos, sample_strategy, frame_n, win_n)\u001b[0m\n\u001b[1;32m     35\u001b[0m                     \u001b[0mtmp_chunk\u001b[0m \u001b[0;34m=\u001b[0m \u001b[0mnp\u001b[0m\u001b[0;34m.\u001b[0m\u001b[0mmean\u001b[0m\u001b[0;34m(\u001b[0m\u001b[0mvr\u001b[0m\u001b[0;34m.\u001b[0m\u001b[0mget_batch\u001b[0m\u001b[0;34m(\u001b[0m\u001b[0;34m[\u001b[0m\u001b[0mchunks\u001b[0m\u001b[0;34m[\u001b[0m\u001b[0mchunk\u001b[0m\u001b[0;34m]\u001b[0m\u001b[0;34m]\u001b[0m\u001b[0;34m)\u001b[0m\u001b[0;34m.\u001b[0m\u001b[0masnumpy\u001b[0m\u001b[0;34m(\u001b[0m\u001b[0;34m)\u001b[0m\u001b[0;34m,\u001b[0m \u001b[0maxis\u001b[0m\u001b[0;34m=\u001b[0m\u001b[0;36m0\u001b[0m\u001b[0;34m)\u001b[0m\u001b[0;34m\u001b[0m\u001b[0;34m\u001b[0m\u001b[0m\n\u001b[1;32m     36\u001b[0m                     \u001b[0mstart\u001b[0m \u001b[0;34m=\u001b[0m\u001b[0;34m+\u001b[0m  \u001b[0mchunks\u001b[0m\u001b[0;34m[\u001b[0m\u001b[0mchunk\u001b[0m\u001b[0;34m]\u001b[0m\u001b[0;34m[\u001b[0m\u001b[0;34m-\u001b[0m\u001b[0;36m1\u001b[0m\u001b[0;34m]\u001b[0m \u001b[0;34m+\u001b[0m \u001b[0;36m1\u001b[0m\u001b[0;34m\u001b[0m\u001b[0;34m\u001b[0m\u001b[0m\n\u001b[0;32m---> 37\u001b[0;31m                     \u001b[0mX\u001b[0m\u001b[0;34m[\u001b[0m\u001b[0mi\u001b[0m\u001b[0;34m]\u001b[0m\u001b[0;34m[\u001b[0m\u001b[0mchunk\u001b[0m\u001b[0;34m]\u001b[0m \u001b[0;34m=\u001b[0m \u001b[0mnp\u001b[0m\u001b[0;34m.\u001b[0m\u001b[0mmean\u001b[0m\u001b[0;34m(\u001b[0m\u001b[0mvr\u001b[0m\u001b[0;34m.\u001b[0m\u001b[0mget_batch\u001b[0m\u001b[0;34m(\u001b[0m\u001b[0;34m[\u001b[0m\u001b[0mchunks\u001b[0m\u001b[0;34m[\u001b[0m\u001b[0mchunk\u001b[0m\u001b[0;34m]\u001b[0m\u001b[0;34m]\u001b[0m\u001b[0;34m)\u001b[0m\u001b[0;34m.\u001b[0m\u001b[0masnumpy\u001b[0m\u001b[0;34m(\u001b[0m\u001b[0;34m)\u001b[0m\u001b[0;34m,\u001b[0m \u001b[0maxis\u001b[0m\u001b[0;34m=\u001b[0m\u001b[0;36m0\u001b[0m\u001b[0;34m)\u001b[0m\u001b[0;34m.\u001b[0m\u001b[0mastype\u001b[0m\u001b[0;34m(\u001b[0m\u001b[0mint\u001b[0m\u001b[0;34m)\u001b[0m\u001b[0;34m\u001b[0m\u001b[0;34m\u001b[0m\u001b[0m\n\u001b[0m\u001b[1;32m     38\u001b[0m \u001b[0;34m\u001b[0m\u001b[0m\n\u001b[1;32m     39\u001b[0m             \u001b[0mi\u001b[0m \u001b[0;34m+=\u001b[0m \u001b[0;36m1\u001b[0m\u001b[0;34m\u001b[0m\u001b[0;34m\u001b[0m\u001b[0m\n",
            "\u001b[0;32m/usr/local/lib/python3.7/dist-packages/decord/video_reader.py\u001b[0m in \u001b[0;36mget_batch\u001b[0;34m(self, indices)\u001b[0m\n\u001b[1;32m    173\u001b[0m         \u001b[0;32massert\u001b[0m \u001b[0mself\u001b[0m\u001b[0;34m.\u001b[0m\u001b[0m_handle\u001b[0m \u001b[0;32mis\u001b[0m \u001b[0;32mnot\u001b[0m \u001b[0;32mNone\u001b[0m\u001b[0;34m\u001b[0m\u001b[0;34m\u001b[0m\u001b[0m\n\u001b[1;32m    174\u001b[0m         \u001b[0mindices\u001b[0m \u001b[0;34m=\u001b[0m \u001b[0m_nd\u001b[0m\u001b[0;34m.\u001b[0m\u001b[0marray\u001b[0m\u001b[0;34m(\u001b[0m\u001b[0mself\u001b[0m\u001b[0;34m.\u001b[0m\u001b[0m_validate_indices\u001b[0m\u001b[0;34m(\u001b[0m\u001b[0mindices\u001b[0m\u001b[0;34m)\u001b[0m\u001b[0;34m)\u001b[0m\u001b[0;34m\u001b[0m\u001b[0;34m\u001b[0m\u001b[0m\n\u001b[0;32m--> 175\u001b[0;31m         \u001b[0marr\u001b[0m \u001b[0;34m=\u001b[0m \u001b[0m_CAPI_VideoReaderGetBatch\u001b[0m\u001b[0;34m(\u001b[0m\u001b[0mself\u001b[0m\u001b[0;34m.\u001b[0m\u001b[0m_handle\u001b[0m\u001b[0;34m,\u001b[0m \u001b[0mindices\u001b[0m\u001b[0;34m)\u001b[0m\u001b[0;34m\u001b[0m\u001b[0;34m\u001b[0m\u001b[0m\n\u001b[0m\u001b[1;32m    176\u001b[0m         \u001b[0;32mreturn\u001b[0m \u001b[0mbridge_out\u001b[0m\u001b[0;34m(\u001b[0m\u001b[0marr\u001b[0m\u001b[0;34m)\u001b[0m\u001b[0;34m\u001b[0m\u001b[0;34m\u001b[0m\u001b[0m\n\u001b[1;32m    177\u001b[0m \u001b[0;34m\u001b[0m\u001b[0m\n",
            "\u001b[0;32m/usr/local/lib/python3.7/dist-packages/decord/_ffi/_ctypes/function.py\u001b[0m in \u001b[0;36m__call__\u001b[0;34m(self, *args)\u001b[0m\n\u001b[1;32m    173\u001b[0m         check_call(_LIB.DECORDFuncCall(\n\u001b[1;32m    174\u001b[0m             \u001b[0mself\u001b[0m\u001b[0;34m.\u001b[0m\u001b[0mhandle\u001b[0m\u001b[0;34m,\u001b[0m \u001b[0mvalues\u001b[0m\u001b[0;34m,\u001b[0m \u001b[0mtcodes\u001b[0m\u001b[0;34m,\u001b[0m \u001b[0mctypes\u001b[0m\u001b[0;34m.\u001b[0m\u001b[0mc_int\u001b[0m\u001b[0;34m(\u001b[0m\u001b[0mnum_args\u001b[0m\u001b[0;34m)\u001b[0m\u001b[0;34m,\u001b[0m\u001b[0;34m\u001b[0m\u001b[0;34m\u001b[0m\u001b[0m\n\u001b[0;32m--> 175\u001b[0;31m             ctypes.byref(ret_val), ctypes.byref(ret_tcode)))\n\u001b[0m\u001b[1;32m    176\u001b[0m         \u001b[0m_\u001b[0m \u001b[0;34m=\u001b[0m \u001b[0mtemp_args\u001b[0m\u001b[0;34m\u001b[0m\u001b[0;34m\u001b[0m\u001b[0m\n\u001b[1;32m    177\u001b[0m         \u001b[0m_\u001b[0m \u001b[0;34m=\u001b[0m \u001b[0margs\u001b[0m\u001b[0;34m\u001b[0m\u001b[0;34m\u001b[0m\u001b[0m\n",
            "\u001b[0;31mKeyboardInterrupt\u001b[0m: "
          ]
        }
      ]
    },
    {
      "cell_type": "code",
      "metadata": {
        "id": "RH6iSf6CdUrA"
      },
      "source": [
        "video2plot = 1\n",
        "frame2plot = 2\n",
        "imshow(X[video2plot][frame2plot])"
      ],
      "execution_count": null,
      "outputs": []
    }
  ]
}