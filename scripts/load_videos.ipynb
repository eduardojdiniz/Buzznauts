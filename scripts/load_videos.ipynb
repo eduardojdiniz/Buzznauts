{
 "cells": [
  {
   "cell_type": "markdown",
   "metadata": {},
   "source": [
    "<a   href=\"https://colab.research.google.com/github/eduardojdiniz/Buzznauts/blob/master/scripts/load_videos.ipynb\" target=\"_parent\"><img src=\"https://colab.research.google.com/assets/colab-badge.svg\" alt=\"Open In Colab\"/></a>"
   ]
  },
  {
   "cell_type": "markdown",
   "metadata": {},
   "source": [
    "# Example loader"
   ]
  },
  {
   "cell_type": "markdown",
   "metadata": {},
   "source": [
    "### Import Buzznauts GitHub Repository and Install Dependencies"
   ]
  },
  {
   "cell_type": "code",
   "execution_count": null,
   "metadata": {},
   "outputs": [],
   "source": [
    "!pip install duecredit --quiet\n",
    "!pip install nilearn --quiet\n",
    "!pip install numpy --quiet\n",
    "!pip install matplotlib --quiet\n",
    "!pip install nibabel --quiet\n",
    "!pip install decord --quiet\n",
    "!pip install tqdm --quiet\n",
    "\n",
    "\n",
    "!pip install opencv --quiet\n",
    "!git clone https://github.com/eduardojdiniz/Buzznauts --quiet\n",
    "!git clone https://github.com/Neural-Dynamics-of-Visual-Cognition-FUB/Algonauts2021_devkit.git"
   ]
  },
  {
   "cell_type": "markdown",
   "metadata": {},
   "source": [
    "### Import Buzznauts Module "
   ]
  },
  {
   "cell_type": "code",
   "execution_count": null,
   "metadata": {},
   "outputs": [],
   "source": [
    "import Buzznauts.Buzznauts as buzz\n",
    "# Imports\n",
    "import os\n",
    "import glob\n",
    "import pickle\n",
    "import torch\n",
    "\n",
    "import numpy as np\n",
    "import matplotlib.pyplot as plt\n",
    "import nibabel as nib\n",
    "\n",
    "from nilearn import datasets\n",
    "from nilearn import plotting\n",
    "from tqdm import tqdm\n",
    "\n",
    "fsaverage = datasets.fetch_surf_fsaverage()\n",
    "\n",
    "from google.colab import drive\n",
    "drive.mount(\"/content/drive\")\n",
    "\n",
    "import os.path as op\n",
    "videos = \"/content/drive/MyDrive/Buzznauts/data/stimuli/videos\"\n",
    "dataframe = op.join(stimuli, \"frames\")"
   ]
  },
  {
   "cell_type": "code",
   "execution_count": null,
   "metadata": {},
   "outputs": [],
   "source": [
    "from decord import VideoReader\n",
    "from decord import cpu, gpu\n",
    "from tqdm import tqdm\n",
    "from random import randrange\n",
    "\n",
    "def load_videos(path_to_videos, sample_strategy='standard', frame_n=3, win_n=3):\n",
    "    vid_list = os.listdir(path_to_videos)\n",
    "    vid_list.sort()\n",
    "    mp4_filename_format = \"{path}/{filename}\"\n",
    "    mp4_path_files = glob.glob(path_to_videos + '*.mp4')\n",
    "    X = {}\n",
    "    i = 0\n",
    "\n",
    "    with tqdm(total = len(vid_list), position = 0, leave = True) as pbar:\n",
    "        for video in tqdm(vid_list, position = 0, leave = True):\n",
    "            mp4_filename = mp4_filename_format.format(path=path_to_videos, \n",
    "                                                filename=video)\n",
    "            vr = VideoReader(mp4_filename, ctx=cpu(0))\n",
    "      \n",
    "            if sample_strategy=='standard':\n",
    "                num_frames = len(vr)\n",
    "                X[i] = vr.get_batch([0, int(num_frames*0.5), num_frames-1]).asnumpy()\n",
    "            elif sample_strategy=='random':\n",
    "                sample_n = np.zeros((frame_n))\n",
    "                for x in range(sample_n.shape[0]):\n",
    "                    sample_n[x] = randrange(0, len(vr))\n",
    "                sample_n = sample_n.astype(int)\n",
    "                X[i] = vr.get_batch([sample_n]).asnumpy()\n",
    "            elif sample_strategy=='average':\n",
    "                chunks = []\n",
    "                start=0\n",
    "                X[i]={}\n",
    "                for chunk in range(win_n):\n",
    "                    chunks.append(list(range(start, int(start + int(len(vr)/(win_n))))))\n",
    "                    tmp_chunk = np.mean(vr.get_batch([chunks[chunk]]).asnumpy(), axis=0)\n",
    "                    start =+  chunks[chunk][-1] + 1\n",
    "                    X[i][chunk] = np.mean(vr.get_batch([chunks[chunk]]).asnumpy(), axis=0).astype(int)\n",
    "\n",
    "            i += 1\n",
    "    return X\n",
    "\n",
    "\n",
    "#X = load_videos('/content/AlgonautsVideos268_All_30fpsmax/', sample_strategy='random', frame_n=4)\n",
    "X = load_videos(videos, sample_strategy='average', win_n=2)"
   ]
  },
  {
   "cell_type": "code",
   "execution_count": null,
   "metadata": {},
   "outputs": [],
   "source": [
    "video2plot = 1\n",
    "frame2plot = 2\n",
    "imshow(X[video2plot][frame2plot])"
   ]
  }
 ],
 "metadata": {
  "colab": {
   "collapsed_sections": [],
   "name": "load_videos.ipynb",
   "provenance": []
  },
  "kernelspec": {
   "display_name": "Python 3",
   "language": "python",
   "name": "python3"
  },
  "language_info": {
   "codemirror_mode": {
    "name": "ipython",
    "version": 3
   },
   "file_extension": ".py",
   "mimetype": "text/x-python",
   "name": "python",
   "nbconvert_exporter": "python",
   "pygments_lexer": "ipython3"
  }
 },
 "nbformat": 4,
 "nbformat_minor": 0
}
